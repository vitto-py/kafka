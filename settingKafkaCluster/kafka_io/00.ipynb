{
 "cells": [
  {
   "cell_type": "markdown",
   "metadata": {},
   "source": [
    "# Confluent"
   ]
  },
  {
   "cell_type": "code",
   "execution_count": null,
   "metadata": {
    "vscode": {
     "languageId": "shellscript"
    }
   },
   "outputs": [],
   "source": [
    "# ZOOKEPER\n",
    "zookeeper-server-start ~/confluent-7.5.3/etc/kafka/zookeeper.properties\n",
    "\n",
    "# 1 BROKER\n",
    "kafka-server-start ~/confluent-7.5.3/etc/kafka/server.properties\n",
    "\n",
    "# SCHEMA\n",
    "schema-registry-start ~/confluent-7.5.3/etc/schema-registry/schema-registry.properties \n",
    "\n",
    "# CONNECT\n",
    "connect-distributed ~/confluent-7.5.3/etc/kafka/connect-distributed.properties \n"
   ]
  },
  {
   "cell_type": "code",
   "execution_count": null,
   "metadata": {
    "vscode": {
     "languageId": "shellscript"
    }
   },
   "outputs": [],
   "source": [
    "# Create a Topic\n",
    "kafka-topics --create --topic myTopicName --partitions 1 --replication-factor 1 --bootstrap-server localhost:9092"
   ]
  }
 ],
 "metadata": {
  "language_info": {
   "name": "python"
  }
 },
 "nbformat": 4,
 "nbformat_minor": 2
}
